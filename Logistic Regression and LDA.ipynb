{
 "cells": [
  {
   "cell_type": "code",
   "execution_count": 1,
   "metadata": {
    "ExecuteTime": {
     "end_time": "2020-12-05T09:36:13.677118Z",
     "start_time": "2020-12-05T09:36:10.488743Z"
    }
   },
   "outputs": [],
   "source": [
    "import pandas as pd \n",
    "import numpy as np\n",
    "import seaborn as sns \n",
    "import matplotlib.pyplot as plt \n",
    "import scipy.stats as stats\n",
    "\n",
    "from sklearn.preprocessing import scale\n",
    "from sklearn.metrics import confusion_matrix\n",
    "from sklearn.model_selection import train_test_split\n",
    "from sklearn.discriminant_analysis import LinearDiscriminantAnalysis\n",
    "\n",
    "from sklearn.model_selection import train_test_split,GridSearchCV\n",
    "from sklearn.linear_model import LogisticRegression\n",
    "from sklearn import metrics\n",
    "from sklearn.metrics import roc_auc_score,roc_curve,classification_report,confusion_matrix,plot_confusion_matrix"
   ]
  },
  {
   "cell_type": "markdown",
   "metadata": {},
   "source": [
    "### 2.1) Data Ingestion and EDA"
   ]
  },
  {
   "cell_type": "code",
   "execution_count": 2,
   "metadata": {
    "ExecuteTime": {
     "end_time": "2020-12-05T09:36:13.723816Z",
     "start_time": "2020-12-05T09:36:13.677118Z"
    }
   },
   "outputs": [],
   "source": [
    "df_Pkg = pd.read_csv('Holiday_Package.csv')"
   ]
  },
  {
   "cell_type": "code",
   "execution_count": 3,
   "metadata": {
    "ExecuteTime": {
     "end_time": "2020-12-05T09:36:13.893708Z",
     "start_time": "2020-12-05T09:36:13.732797Z"
    }
   },
   "outputs": [
    {
     "data": {
      "text/html": [
       "<div>\n",
       "<style scoped>\n",
       "    .dataframe tbody tr th:only-of-type {\n",
       "        vertical-align: middle;\n",
       "    }\n",
       "\n",
       "    .dataframe tbody tr th {\n",
       "        vertical-align: top;\n",
       "    }\n",
       "\n",
       "    .dataframe thead th {\n",
       "        text-align: right;\n",
       "    }\n",
       "</style>\n",
       "<table border=\"1\" class=\"dataframe\">\n",
       "  <thead>\n",
       "    <tr style=\"text-align: right;\">\n",
       "      <th></th>\n",
       "      <th>Unnamed: 0</th>\n",
       "      <th>Holliday_Package</th>\n",
       "      <th>Salary</th>\n",
       "      <th>age</th>\n",
       "      <th>educ</th>\n",
       "      <th>no_young_children</th>\n",
       "      <th>no_older_children</th>\n",
       "      <th>foreign</th>\n",
       "    </tr>\n",
       "  </thead>\n",
       "  <tbody>\n",
       "    <tr>\n",
       "      <th>0</th>\n",
       "      <td>1</td>\n",
       "      <td>no</td>\n",
       "      <td>48412</td>\n",
       "      <td>30</td>\n",
       "      <td>8</td>\n",
       "      <td>1</td>\n",
       "      <td>1</td>\n",
       "      <td>no</td>\n",
       "    </tr>\n",
       "    <tr>\n",
       "      <th>1</th>\n",
       "      <td>2</td>\n",
       "      <td>yes</td>\n",
       "      <td>37207</td>\n",
       "      <td>45</td>\n",
       "      <td>8</td>\n",
       "      <td>0</td>\n",
       "      <td>1</td>\n",
       "      <td>no</td>\n",
       "    </tr>\n",
       "    <tr>\n",
       "      <th>2</th>\n",
       "      <td>3</td>\n",
       "      <td>no</td>\n",
       "      <td>58022</td>\n",
       "      <td>46</td>\n",
       "      <td>9</td>\n",
       "      <td>0</td>\n",
       "      <td>0</td>\n",
       "      <td>no</td>\n",
       "    </tr>\n",
       "    <tr>\n",
       "      <th>3</th>\n",
       "      <td>4</td>\n",
       "      <td>no</td>\n",
       "      <td>66503</td>\n",
       "      <td>31</td>\n",
       "      <td>11</td>\n",
       "      <td>2</td>\n",
       "      <td>0</td>\n",
       "      <td>no</td>\n",
       "    </tr>\n",
       "    <tr>\n",
       "      <th>4</th>\n",
       "      <td>5</td>\n",
       "      <td>no</td>\n",
       "      <td>66734</td>\n",
       "      <td>44</td>\n",
       "      <td>12</td>\n",
       "      <td>0</td>\n",
       "      <td>2</td>\n",
       "      <td>no</td>\n",
       "    </tr>\n",
       "    <tr>\n",
       "      <th>...</th>\n",
       "      <td>...</td>\n",
       "      <td>...</td>\n",
       "      <td>...</td>\n",
       "      <td>...</td>\n",
       "      <td>...</td>\n",
       "      <td>...</td>\n",
       "      <td>...</td>\n",
       "      <td>...</td>\n",
       "    </tr>\n",
       "    <tr>\n",
       "      <th>867</th>\n",
       "      <td>868</td>\n",
       "      <td>no</td>\n",
       "      <td>40030</td>\n",
       "      <td>24</td>\n",
       "      <td>4</td>\n",
       "      <td>2</td>\n",
       "      <td>1</td>\n",
       "      <td>yes</td>\n",
       "    </tr>\n",
       "    <tr>\n",
       "      <th>868</th>\n",
       "      <td>869</td>\n",
       "      <td>yes</td>\n",
       "      <td>32137</td>\n",
       "      <td>48</td>\n",
       "      <td>8</td>\n",
       "      <td>0</td>\n",
       "      <td>0</td>\n",
       "      <td>yes</td>\n",
       "    </tr>\n",
       "    <tr>\n",
       "      <th>869</th>\n",
       "      <td>870</td>\n",
       "      <td>no</td>\n",
       "      <td>25178</td>\n",
       "      <td>24</td>\n",
       "      <td>6</td>\n",
       "      <td>2</td>\n",
       "      <td>0</td>\n",
       "      <td>yes</td>\n",
       "    </tr>\n",
       "    <tr>\n",
       "      <th>870</th>\n",
       "      <td>871</td>\n",
       "      <td>yes</td>\n",
       "      <td>55958</td>\n",
       "      <td>41</td>\n",
       "      <td>10</td>\n",
       "      <td>0</td>\n",
       "      <td>1</td>\n",
       "      <td>yes</td>\n",
       "    </tr>\n",
       "    <tr>\n",
       "      <th>871</th>\n",
       "      <td>872</td>\n",
       "      <td>no</td>\n",
       "      <td>74659</td>\n",
       "      <td>51</td>\n",
       "      <td>10</td>\n",
       "      <td>0</td>\n",
       "      <td>0</td>\n",
       "      <td>yes</td>\n",
       "    </tr>\n",
       "  </tbody>\n",
       "</table>\n",
       "<p>872 rows × 8 columns</p>\n",
       "</div>"
      ],
      "text/plain": [
       "     Unnamed: 0 Holliday_Package  Salary  age  educ  no_young_children  \\\n",
       "0             1               no   48412   30     8                  1   \n",
       "1             2              yes   37207   45     8                  0   \n",
       "2             3               no   58022   46     9                  0   \n",
       "3             4               no   66503   31    11                  2   \n",
       "4             5               no   66734   44    12                  0   \n",
       "..          ...              ...     ...  ...   ...                ...   \n",
       "867         868               no   40030   24     4                  2   \n",
       "868         869              yes   32137   48     8                  0   \n",
       "869         870               no   25178   24     6                  2   \n",
       "870         871              yes   55958   41    10                  0   \n",
       "871         872               no   74659   51    10                  0   \n",
       "\n",
       "     no_older_children foreign  \n",
       "0                    1      no  \n",
       "1                    1      no  \n",
       "2                    0      no  \n",
       "3                    0      no  \n",
       "4                    2      no  \n",
       "..                 ...     ...  \n",
       "867                  1     yes  \n",
       "868                  0     yes  \n",
       "869                  0     yes  \n",
       "870                  1     yes  \n",
       "871                  0     yes  \n",
       "\n",
       "[872 rows x 8 columns]"
      ]
     },
     "execution_count": 3,
     "metadata": {},
     "output_type": "execute_result"
    }
   ],
   "source": [
    "df_Pkg"
   ]
  },
  {
   "cell_type": "code",
   "execution_count": 4,
   "metadata": {
    "ExecuteTime": {
     "end_time": "2020-12-05T09:36:13.972231Z",
     "start_time": "2020-12-05T09:36:13.899988Z"
    }
   },
   "outputs": [],
   "source": [
    "df_HPkg = df_Pkg.drop('Unnamed: 0',axis=1)"
   ]
  },
  {
   "cell_type": "code",
   "execution_count": 5,
   "metadata": {
    "ExecuteTime": {
     "end_time": "2020-12-05T09:36:14.079080Z",
     "start_time": "2020-12-05T09:36:13.975880Z"
    }
   },
   "outputs": [
    {
     "data": {
      "text/html": [
       "<div>\n",
       "<style scoped>\n",
       "    .dataframe tbody tr th:only-of-type {\n",
       "        vertical-align: middle;\n",
       "    }\n",
       "\n",
       "    .dataframe tbody tr th {\n",
       "        vertical-align: top;\n",
       "    }\n",
       "\n",
       "    .dataframe thead th {\n",
       "        text-align: right;\n",
       "    }\n",
       "</style>\n",
       "<table border=\"1\" class=\"dataframe\">\n",
       "  <thead>\n",
       "    <tr style=\"text-align: right;\">\n",
       "      <th></th>\n",
       "      <th>Holliday_Package</th>\n",
       "      <th>Salary</th>\n",
       "      <th>age</th>\n",
       "      <th>educ</th>\n",
       "      <th>no_young_children</th>\n",
       "      <th>no_older_children</th>\n",
       "      <th>foreign</th>\n",
       "    </tr>\n",
       "  </thead>\n",
       "  <tbody>\n",
       "    <tr>\n",
       "      <th>0</th>\n",
       "      <td>no</td>\n",
       "      <td>48412</td>\n",
       "      <td>30</td>\n",
       "      <td>8</td>\n",
       "      <td>1</td>\n",
       "      <td>1</td>\n",
       "      <td>no</td>\n",
       "    </tr>\n",
       "    <tr>\n",
       "      <th>1</th>\n",
       "      <td>yes</td>\n",
       "      <td>37207</td>\n",
       "      <td>45</td>\n",
       "      <td>8</td>\n",
       "      <td>0</td>\n",
       "      <td>1</td>\n",
       "      <td>no</td>\n",
       "    </tr>\n",
       "    <tr>\n",
       "      <th>2</th>\n",
       "      <td>no</td>\n",
       "      <td>58022</td>\n",
       "      <td>46</td>\n",
       "      <td>9</td>\n",
       "      <td>0</td>\n",
       "      <td>0</td>\n",
       "      <td>no</td>\n",
       "    </tr>\n",
       "    <tr>\n",
       "      <th>3</th>\n",
       "      <td>no</td>\n",
       "      <td>66503</td>\n",
       "      <td>31</td>\n",
       "      <td>11</td>\n",
       "      <td>2</td>\n",
       "      <td>0</td>\n",
       "      <td>no</td>\n",
       "    </tr>\n",
       "    <tr>\n",
       "      <th>4</th>\n",
       "      <td>no</td>\n",
       "      <td>66734</td>\n",
       "      <td>44</td>\n",
       "      <td>12</td>\n",
       "      <td>0</td>\n",
       "      <td>2</td>\n",
       "      <td>no</td>\n",
       "    </tr>\n",
       "  </tbody>\n",
       "</table>\n",
       "</div>"
      ],
      "text/plain": [
       "  Holliday_Package  Salary  age  educ  no_young_children  no_older_children  \\\n",
       "0               no   48412   30     8                  1                  1   \n",
       "1              yes   37207   45     8                  0                  1   \n",
       "2               no   58022   46     9                  0                  0   \n",
       "3               no   66503   31    11                  2                  0   \n",
       "4               no   66734   44    12                  0                  2   \n",
       "\n",
       "  foreign  \n",
       "0      no  \n",
       "1      no  \n",
       "2      no  \n",
       "3      no  \n",
       "4      no  "
      ]
     },
     "execution_count": 5,
     "metadata": {},
     "output_type": "execute_result"
    }
   ],
   "source": [
    "df_HPkg.head()"
   ]
  },
  {
   "cell_type": "markdown",
   "metadata": {},
   "source": [
    "### Basic EDA"
   ]
  },
  {
   "cell_type": "code",
   "execution_count": 6,
   "metadata": {
    "ExecuteTime": {
     "end_time": "2020-12-05T09:36:14.236278Z",
     "start_time": "2020-12-05T09:36:14.081281Z"
    }
   },
   "outputs": [
    {
     "data": {
      "text/html": [
       "<div>\n",
       "<style scoped>\n",
       "    .dataframe tbody tr th:only-of-type {\n",
       "        vertical-align: middle;\n",
       "    }\n",
       "\n",
       "    .dataframe tbody tr th {\n",
       "        vertical-align: top;\n",
       "    }\n",
       "\n",
       "    .dataframe thead th {\n",
       "        text-align: right;\n",
       "    }\n",
       "</style>\n",
       "<table border=\"1\" class=\"dataframe\">\n",
       "  <thead>\n",
       "    <tr style=\"text-align: right;\">\n",
       "      <th></th>\n",
       "      <th>Holliday_Package</th>\n",
       "      <th>Salary</th>\n",
       "      <th>age</th>\n",
       "      <th>educ</th>\n",
       "      <th>no_young_children</th>\n",
       "      <th>no_older_children</th>\n",
       "      <th>foreign</th>\n",
       "    </tr>\n",
       "  </thead>\n",
       "  <tbody>\n",
       "    <tr>\n",
       "      <th>count</th>\n",
       "      <td>872</td>\n",
       "      <td>872.000000</td>\n",
       "      <td>872.000000</td>\n",
       "      <td>872.000000</td>\n",
       "      <td>872.000000</td>\n",
       "      <td>872.000000</td>\n",
       "      <td>872</td>\n",
       "    </tr>\n",
       "    <tr>\n",
       "      <th>unique</th>\n",
       "      <td>2</td>\n",
       "      <td>NaN</td>\n",
       "      <td>NaN</td>\n",
       "      <td>NaN</td>\n",
       "      <td>NaN</td>\n",
       "      <td>NaN</td>\n",
       "      <td>2</td>\n",
       "    </tr>\n",
       "    <tr>\n",
       "      <th>top</th>\n",
       "      <td>no</td>\n",
       "      <td>NaN</td>\n",
       "      <td>NaN</td>\n",
       "      <td>NaN</td>\n",
       "      <td>NaN</td>\n",
       "      <td>NaN</td>\n",
       "      <td>no</td>\n",
       "    </tr>\n",
       "    <tr>\n",
       "      <th>freq</th>\n",
       "      <td>471</td>\n",
       "      <td>NaN</td>\n",
       "      <td>NaN</td>\n",
       "      <td>NaN</td>\n",
       "      <td>NaN</td>\n",
       "      <td>NaN</td>\n",
       "      <td>656</td>\n",
       "    </tr>\n",
       "    <tr>\n",
       "      <th>mean</th>\n",
       "      <td>NaN</td>\n",
       "      <td>47729.172018</td>\n",
       "      <td>39.955275</td>\n",
       "      <td>9.307339</td>\n",
       "      <td>0.311927</td>\n",
       "      <td>0.982798</td>\n",
       "      <td>NaN</td>\n",
       "    </tr>\n",
       "    <tr>\n",
       "      <th>std</th>\n",
       "      <td>NaN</td>\n",
       "      <td>23418.668531</td>\n",
       "      <td>10.551675</td>\n",
       "      <td>3.036259</td>\n",
       "      <td>0.612870</td>\n",
       "      <td>1.086786</td>\n",
       "      <td>NaN</td>\n",
       "    </tr>\n",
       "    <tr>\n",
       "      <th>min</th>\n",
       "      <td>NaN</td>\n",
       "      <td>1322.000000</td>\n",
       "      <td>20.000000</td>\n",
       "      <td>1.000000</td>\n",
       "      <td>0.000000</td>\n",
       "      <td>0.000000</td>\n",
       "      <td>NaN</td>\n",
       "    </tr>\n",
       "    <tr>\n",
       "      <th>25%</th>\n",
       "      <td>NaN</td>\n",
       "      <td>35324.000000</td>\n",
       "      <td>32.000000</td>\n",
       "      <td>8.000000</td>\n",
       "      <td>0.000000</td>\n",
       "      <td>0.000000</td>\n",
       "      <td>NaN</td>\n",
       "    </tr>\n",
       "    <tr>\n",
       "      <th>50%</th>\n",
       "      <td>NaN</td>\n",
       "      <td>41903.500000</td>\n",
       "      <td>39.000000</td>\n",
       "      <td>9.000000</td>\n",
       "      <td>0.000000</td>\n",
       "      <td>1.000000</td>\n",
       "      <td>NaN</td>\n",
       "    </tr>\n",
       "    <tr>\n",
       "      <th>75%</th>\n",
       "      <td>NaN</td>\n",
       "      <td>53469.500000</td>\n",
       "      <td>48.000000</td>\n",
       "      <td>12.000000</td>\n",
       "      <td>0.000000</td>\n",
       "      <td>2.000000</td>\n",
       "      <td>NaN</td>\n",
       "    </tr>\n",
       "    <tr>\n",
       "      <th>max</th>\n",
       "      <td>NaN</td>\n",
       "      <td>236961.000000</td>\n",
       "      <td>62.000000</td>\n",
       "      <td>21.000000</td>\n",
       "      <td>3.000000</td>\n",
       "      <td>6.000000</td>\n",
       "      <td>NaN</td>\n",
       "    </tr>\n",
       "  </tbody>\n",
       "</table>\n",
       "</div>"
      ],
      "text/plain": [
       "       Holliday_Package         Salary         age        educ  \\\n",
       "count               872     872.000000  872.000000  872.000000   \n",
       "unique                2            NaN         NaN         NaN   \n",
       "top                  no            NaN         NaN         NaN   \n",
       "freq                471            NaN         NaN         NaN   \n",
       "mean                NaN   47729.172018   39.955275    9.307339   \n",
       "std                 NaN   23418.668531   10.551675    3.036259   \n",
       "min                 NaN    1322.000000   20.000000    1.000000   \n",
       "25%                 NaN   35324.000000   32.000000    8.000000   \n",
       "50%                 NaN   41903.500000   39.000000    9.000000   \n",
       "75%                 NaN   53469.500000   48.000000   12.000000   \n",
       "max                 NaN  236961.000000   62.000000   21.000000   \n",
       "\n",
       "        no_young_children  no_older_children foreign  \n",
       "count          872.000000         872.000000     872  \n",
       "unique                NaN                NaN       2  \n",
       "top                   NaN                NaN      no  \n",
       "freq                  NaN                NaN     656  \n",
       "mean             0.311927           0.982798     NaN  \n",
       "std              0.612870           1.086786     NaN  \n",
       "min              0.000000           0.000000     NaN  \n",
       "25%              0.000000           0.000000     NaN  \n",
       "50%              0.000000           1.000000     NaN  \n",
       "75%              0.000000           2.000000     NaN  \n",
       "max              3.000000           6.000000     NaN  "
      ]
     },
     "execution_count": 6,
     "metadata": {},
     "output_type": "execute_result"
    }
   ],
   "source": [
    "df_HPkg.describe(include='all')"
   ]
  },
  {
   "cell_type": "code",
   "execution_count": 7,
   "metadata": {
    "ExecuteTime": {
     "end_time": "2020-12-05T09:36:14.275044Z",
     "start_time": "2020-12-05T09:36:14.241928Z"
    }
   },
   "outputs": [
    {
     "name": "stdout",
     "output_type": "stream",
     "text": [
      "<class 'pandas.core.frame.DataFrame'>\n",
      "RangeIndex: 872 entries, 0 to 871\n",
      "Data columns (total 7 columns):\n",
      " #   Column             Non-Null Count  Dtype \n",
      "---  ------             --------------  ----- \n",
      " 0   Holliday_Package   872 non-null    object\n",
      " 1   Salary             872 non-null    int64 \n",
      " 2   age                872 non-null    int64 \n",
      " 3   educ               872 non-null    int64 \n",
      " 4   no_young_children  872 non-null    int64 \n",
      " 5   no_older_children  872 non-null    int64 \n",
      " 6   foreign            872 non-null    object\n",
      "dtypes: int64(5), object(2)\n",
      "memory usage: 47.8+ KB\n"
     ]
    }
   ],
   "source": [
    "df_HPkg.info()"
   ]
  },
  {
   "cell_type": "code",
   "execution_count": 8,
   "metadata": {
    "ExecuteTime": {
     "end_time": "2020-12-05T09:36:14.362548Z",
     "start_time": "2020-12-05T09:36:14.290833Z"
    }
   },
   "outputs": [
    {
     "data": {
      "text/plain": [
       "(872, 7)"
      ]
     },
     "execution_count": 8,
     "metadata": {},
     "output_type": "execute_result"
    }
   ],
   "source": [
    "df_HPkg.shape"
   ]
  },
  {
   "cell_type": "markdown",
   "metadata": {},
   "source": [
    "### Checking for Null Values"
   ]
  },
  {
   "cell_type": "code",
   "execution_count": 9,
   "metadata": {
    "ExecuteTime": {
     "end_time": "2020-12-05T09:36:14.470648Z",
     "start_time": "2020-12-05T09:36:14.366573Z"
    }
   },
   "outputs": [
    {
     "data": {
      "text/plain": [
       "Holliday_Package     0\n",
       "Salary               0\n",
       "age                  0\n",
       "educ                 0\n",
       "no_young_children    0\n",
       "no_older_children    0\n",
       "foreign              0\n",
       "dtype: int64"
      ]
     },
     "execution_count": 9,
     "metadata": {},
     "output_type": "execute_result"
    }
   ],
   "source": [
    "df_HPkg.isnull().sum()"
   ]
  },
  {
   "cell_type": "markdown",
   "metadata": {},
   "source": [
    "### Checking the duplicated values"
   ]
  },
  {
   "cell_type": "code",
   "execution_count": 10,
   "metadata": {
    "ExecuteTime": {
     "end_time": "2020-12-05T09:36:14.627663Z",
     "start_time": "2020-12-05T09:36:14.480054Z"
    }
   },
   "outputs": [
    {
     "data": {
      "text/plain": [
       "0"
      ]
     },
     "execution_count": 10,
     "metadata": {},
     "output_type": "execute_result"
    }
   ],
   "source": [
    "df_HPkg.duplicated().sum()"
   ]
  },
  {
   "cell_type": "markdown",
   "metadata": {},
   "source": [
    "### Proportion in the Target classes"
   ]
  },
  {
   "cell_type": "code",
   "execution_count": 11,
   "metadata": {
    "ExecuteTime": {
     "end_time": "2020-12-05T09:36:14.729977Z",
     "start_time": "2020-12-05T09:36:14.633988Z"
    }
   },
   "outputs": [
    {
     "data": {
      "text/html": [
       "<div>\n",
       "<style scoped>\n",
       "    .dataframe tbody tr th:only-of-type {\n",
       "        vertical-align: middle;\n",
       "    }\n",
       "\n",
       "    .dataframe tbody tr th {\n",
       "        vertical-align: top;\n",
       "    }\n",
       "\n",
       "    .dataframe thead th {\n",
       "        text-align: right;\n",
       "    }\n",
       "</style>\n",
       "<table border=\"1\" class=\"dataframe\">\n",
       "  <thead>\n",
       "    <tr style=\"text-align: right;\">\n",
       "      <th></th>\n",
       "      <th>Holliday_Package</th>\n",
       "      <th>foreign</th>\n",
       "    </tr>\n",
       "  </thead>\n",
       "  <tbody>\n",
       "    <tr>\n",
       "      <th>0</th>\n",
       "      <td>no</td>\n",
       "      <td>no</td>\n",
       "    </tr>\n",
       "    <tr>\n",
       "      <th>1</th>\n",
       "      <td>yes</td>\n",
       "      <td>no</td>\n",
       "    </tr>\n",
       "    <tr>\n",
       "      <th>2</th>\n",
       "      <td>no</td>\n",
       "      <td>no</td>\n",
       "    </tr>\n",
       "    <tr>\n",
       "      <th>3</th>\n",
       "      <td>no</td>\n",
       "      <td>no</td>\n",
       "    </tr>\n",
       "    <tr>\n",
       "      <th>4</th>\n",
       "      <td>no</td>\n",
       "      <td>no</td>\n",
       "    </tr>\n",
       "  </tbody>\n",
       "</table>\n",
       "</div>"
      ],
      "text/plain": [
       "  Holliday_Package foreign\n",
       "0               no      no\n",
       "1              yes      no\n",
       "2               no      no\n",
       "3               no      no\n",
       "4               no      no"
      ]
     },
     "execution_count": 11,
     "metadata": {},
     "output_type": "execute_result"
    }
   ],
   "source": [
    "df_HPkg.select_dtypes(include='object').head()"
   ]
  },
  {
   "cell_type": "code",
   "execution_count": 12,
   "metadata": {
    "ExecuteTime": {
     "end_time": "2020-12-05T09:36:14.821442Z",
     "start_time": "2020-12-05T09:36:14.731051Z"
    }
   },
   "outputs": [
    {
     "data": {
      "text/plain": [
       "no     0.540138\n",
       "yes    0.459862\n",
       "Name: Holliday_Package, dtype: float64"
      ]
     },
     "execution_count": 12,
     "metadata": {},
     "output_type": "execute_result"
    }
   ],
   "source": [
    "df_HPkg.Holliday_Package.value_counts(normalize=True)"
   ]
  },
  {
   "cell_type": "code",
   "execution_count": 13,
   "metadata": {
    "ExecuteTime": {
     "end_time": "2020-12-05T09:36:14.923315Z",
     "start_time": "2020-12-05T09:36:14.822482Z"
    }
   },
   "outputs": [
    {
     "data": {
      "text/plain": [
       "Holliday_Package     object\n",
       "Salary                int64\n",
       "age                   int64\n",
       "educ                  int64\n",
       "no_young_children     int64\n",
       "no_older_children     int64\n",
       "foreign              object\n",
       "dtype: object"
      ]
     },
     "execution_count": 13,
     "metadata": {},
     "output_type": "execute_result"
    }
   ],
   "source": [
    "df_HPkg.dtypes"
   ]
  },
  {
   "cell_type": "markdown",
   "metadata": {},
   "source": [
    "### Encoding the object variables"
   ]
  },
  {
   "cell_type": "markdown",
   "metadata": {
    "ExecuteTime": {
     "end_time": "2020-12-04T20:36:49.349608Z",
     "start_time": "2020-12-04T20:36:49.279132Z"
    }
   },
   "source": [
    "for feature in df_HPkg.columns:\n",
    "    if df_HPkg[feature].dtype == 'object':\n",
    "        print('\\n')\n",
    "        print('Feature:',feature)\n",
    "        print(pd.Categorical(df_HPkg[feature].unique()))\n",
    "        print(pd.Categorical(df_HPkg[feature].unique()).codes)\n",
    "        df_HPkg[feature] = pd.Categorical(df_HPkg[feature]).codes"
   ]
  },
  {
   "cell_type": "code",
   "execution_count": 14,
   "metadata": {
    "ExecuteTime": {
     "end_time": "2020-12-05T09:36:15.030228Z",
     "start_time": "2020-12-05T09:36:14.931109Z"
    }
   },
   "outputs": [
    {
     "data": {
      "text/html": [
       "<div>\n",
       "<style scoped>\n",
       "    .dataframe tbody tr th:only-of-type {\n",
       "        vertical-align: middle;\n",
       "    }\n",
       "\n",
       "    .dataframe tbody tr th {\n",
       "        vertical-align: top;\n",
       "    }\n",
       "\n",
       "    .dataframe thead th {\n",
       "        text-align: right;\n",
       "    }\n",
       "</style>\n",
       "<table border=\"1\" class=\"dataframe\">\n",
       "  <thead>\n",
       "    <tr style=\"text-align: right;\">\n",
       "      <th></th>\n",
       "      <th>Holliday_Package</th>\n",
       "      <th>Salary</th>\n",
       "      <th>age</th>\n",
       "      <th>educ</th>\n",
       "      <th>no_young_children</th>\n",
       "      <th>no_older_children</th>\n",
       "      <th>foreign_yes</th>\n",
       "    </tr>\n",
       "  </thead>\n",
       "  <tbody>\n",
       "    <tr>\n",
       "      <th>0</th>\n",
       "      <td>no</td>\n",
       "      <td>48412</td>\n",
       "      <td>30</td>\n",
       "      <td>8</td>\n",
       "      <td>1</td>\n",
       "      <td>1</td>\n",
       "      <td>0</td>\n",
       "    </tr>\n",
       "    <tr>\n",
       "      <th>1</th>\n",
       "      <td>yes</td>\n",
       "      <td>37207</td>\n",
       "      <td>45</td>\n",
       "      <td>8</td>\n",
       "      <td>0</td>\n",
       "      <td>1</td>\n",
       "      <td>0</td>\n",
       "    </tr>\n",
       "    <tr>\n",
       "      <th>2</th>\n",
       "      <td>no</td>\n",
       "      <td>58022</td>\n",
       "      <td>46</td>\n",
       "      <td>9</td>\n",
       "      <td>0</td>\n",
       "      <td>0</td>\n",
       "      <td>0</td>\n",
       "    </tr>\n",
       "    <tr>\n",
       "      <th>3</th>\n",
       "      <td>no</td>\n",
       "      <td>66503</td>\n",
       "      <td>31</td>\n",
       "      <td>11</td>\n",
       "      <td>2</td>\n",
       "      <td>0</td>\n",
       "      <td>0</td>\n",
       "    </tr>\n",
       "    <tr>\n",
       "      <th>4</th>\n",
       "      <td>no</td>\n",
       "      <td>66734</td>\n",
       "      <td>44</td>\n",
       "      <td>12</td>\n",
       "      <td>0</td>\n",
       "      <td>2</td>\n",
       "      <td>0</td>\n",
       "    </tr>\n",
       "    <tr>\n",
       "      <th>...</th>\n",
       "      <td>...</td>\n",
       "      <td>...</td>\n",
       "      <td>...</td>\n",
       "      <td>...</td>\n",
       "      <td>...</td>\n",
       "      <td>...</td>\n",
       "      <td>...</td>\n",
       "    </tr>\n",
       "    <tr>\n",
       "      <th>867</th>\n",
       "      <td>no</td>\n",
       "      <td>40030</td>\n",
       "      <td>24</td>\n",
       "      <td>4</td>\n",
       "      <td>2</td>\n",
       "      <td>1</td>\n",
       "      <td>1</td>\n",
       "    </tr>\n",
       "    <tr>\n",
       "      <th>868</th>\n",
       "      <td>yes</td>\n",
       "      <td>32137</td>\n",
       "      <td>48</td>\n",
       "      <td>8</td>\n",
       "      <td>0</td>\n",
       "      <td>0</td>\n",
       "      <td>1</td>\n",
       "    </tr>\n",
       "    <tr>\n",
       "      <th>869</th>\n",
       "      <td>no</td>\n",
       "      <td>25178</td>\n",
       "      <td>24</td>\n",
       "      <td>6</td>\n",
       "      <td>2</td>\n",
       "      <td>0</td>\n",
       "      <td>1</td>\n",
       "    </tr>\n",
       "    <tr>\n",
       "      <th>870</th>\n",
       "      <td>yes</td>\n",
       "      <td>55958</td>\n",
       "      <td>41</td>\n",
       "      <td>10</td>\n",
       "      <td>0</td>\n",
       "      <td>1</td>\n",
       "      <td>1</td>\n",
       "    </tr>\n",
       "    <tr>\n",
       "      <th>871</th>\n",
       "      <td>no</td>\n",
       "      <td>74659</td>\n",
       "      <td>51</td>\n",
       "      <td>10</td>\n",
       "      <td>0</td>\n",
       "      <td>0</td>\n",
       "      <td>1</td>\n",
       "    </tr>\n",
       "  </tbody>\n",
       "</table>\n",
       "<p>872 rows × 7 columns</p>\n",
       "</div>"
      ],
      "text/plain": [
       "    Holliday_Package  Salary  age  educ  no_young_children  no_older_children  \\\n",
       "0                 no   48412   30     8                  1                  1   \n",
       "1                yes   37207   45     8                  0                  1   \n",
       "2                 no   58022   46     9                  0                  0   \n",
       "3                 no   66503   31    11                  2                  0   \n",
       "4                 no   66734   44    12                  0                  2   \n",
       "..               ...     ...  ...   ...                ...                ...   \n",
       "867               no   40030   24     4                  2                  1   \n",
       "868              yes   32137   48     8                  0                  0   \n",
       "869               no   25178   24     6                  2                  0   \n",
       "870              yes   55958   41    10                  0                  1   \n",
       "871               no   74659   51    10                  0                  0   \n",
       "\n",
       "     foreign_yes  \n",
       "0              0  \n",
       "1              0  \n",
       "2              0  \n",
       "3              0  \n",
       "4              0  \n",
       "..           ...  \n",
       "867            1  \n",
       "868            1  \n",
       "869            1  \n",
       "870            1  \n",
       "871            1  \n",
       "\n",
       "[872 rows x 7 columns]"
      ]
     },
     "execution_count": 14,
     "metadata": {},
     "output_type": "execute_result"
    }
   ],
   "source": [
    "df_HPkg = pd.get_dummies(df_HPkg, columns=['foreign'], drop_first=True)\n",
    "df_HPkg"
   ]
  },
  {
   "cell_type": "code",
   "execution_count": 15,
   "metadata": {
    "ExecuteTime": {
     "end_time": "2020-12-05T09:36:15.120923Z",
     "start_time": "2020-12-05T09:36:15.032267Z"
    }
   },
   "outputs": [
    {
     "name": "stdout",
     "output_type": "stream",
     "text": [
      "['no', 'yes']\n",
      "Categories (2, object): ['no', 'yes']\n",
      "[0 1]\n"
     ]
    }
   ],
   "source": [
    "print(pd.Categorical(df_HPkg['Holliday_Package'].unique()))\n",
    "print(pd.Categorical(df_HPkg['Holliday_Package'].unique()).codes)\n",
    "df_HPkg['Holliday_Package'] = pd.Categorical(df_HPkg['Holliday_Package']).codes"
   ]
  },
  {
   "cell_type": "code",
   "execution_count": 16,
   "metadata": {
    "ExecuteTime": {
     "end_time": "2020-12-05T09:36:15.219156Z",
     "start_time": "2020-12-05T09:36:15.122971Z"
    }
   },
   "outputs": [
    {
     "data": {
      "text/html": [
       "<div>\n",
       "<style scoped>\n",
       "    .dataframe tbody tr th:only-of-type {\n",
       "        vertical-align: middle;\n",
       "    }\n",
       "\n",
       "    .dataframe tbody tr th {\n",
       "        vertical-align: top;\n",
       "    }\n",
       "\n",
       "    .dataframe thead th {\n",
       "        text-align: right;\n",
       "    }\n",
       "</style>\n",
       "<table border=\"1\" class=\"dataframe\">\n",
       "  <thead>\n",
       "    <tr style=\"text-align: right;\">\n",
       "      <th></th>\n",
       "      <th>Holliday_Package</th>\n",
       "      <th>Salary</th>\n",
       "      <th>age</th>\n",
       "      <th>educ</th>\n",
       "      <th>no_young_children</th>\n",
       "      <th>no_older_children</th>\n",
       "      <th>foreign_yes</th>\n",
       "    </tr>\n",
       "  </thead>\n",
       "  <tbody>\n",
       "    <tr>\n",
       "      <th>0</th>\n",
       "      <td>0</td>\n",
       "      <td>48412</td>\n",
       "      <td>30</td>\n",
       "      <td>8</td>\n",
       "      <td>1</td>\n",
       "      <td>1</td>\n",
       "      <td>0</td>\n",
       "    </tr>\n",
       "    <tr>\n",
       "      <th>1</th>\n",
       "      <td>1</td>\n",
       "      <td>37207</td>\n",
       "      <td>45</td>\n",
       "      <td>8</td>\n",
       "      <td>0</td>\n",
       "      <td>1</td>\n",
       "      <td>0</td>\n",
       "    </tr>\n",
       "    <tr>\n",
       "      <th>2</th>\n",
       "      <td>0</td>\n",
       "      <td>58022</td>\n",
       "      <td>46</td>\n",
       "      <td>9</td>\n",
       "      <td>0</td>\n",
       "      <td>0</td>\n",
       "      <td>0</td>\n",
       "    </tr>\n",
       "    <tr>\n",
       "      <th>3</th>\n",
       "      <td>0</td>\n",
       "      <td>66503</td>\n",
       "      <td>31</td>\n",
       "      <td>11</td>\n",
       "      <td>2</td>\n",
       "      <td>0</td>\n",
       "      <td>0</td>\n",
       "    </tr>\n",
       "    <tr>\n",
       "      <th>4</th>\n",
       "      <td>0</td>\n",
       "      <td>66734</td>\n",
       "      <td>44</td>\n",
       "      <td>12</td>\n",
       "      <td>0</td>\n",
       "      <td>2</td>\n",
       "      <td>0</td>\n",
       "    </tr>\n",
       "  </tbody>\n",
       "</table>\n",
       "</div>"
      ],
      "text/plain": [
       "   Holliday_Package  Salary  age  educ  no_young_children  no_older_children  \\\n",
       "0                 0   48412   30     8                  1                  1   \n",
       "1                 1   37207   45     8                  0                  1   \n",
       "2                 0   58022   46     9                  0                  0   \n",
       "3                 0   66503   31    11                  2                  0   \n",
       "4                 0   66734   44    12                  0                  2   \n",
       "\n",
       "   foreign_yes  \n",
       "0            0  \n",
       "1            0  \n",
       "2            0  \n",
       "3            0  \n",
       "4            0  "
      ]
     },
     "execution_count": 16,
     "metadata": {},
     "output_type": "execute_result"
    }
   ],
   "source": [
    "df_HPkg.head()"
   ]
  },
  {
   "cell_type": "markdown",
   "metadata": {},
   "source": [
    "### Univariate Analysis"
   ]
  },
  {
   "cell_type": "code",
   "execution_count": 17,
   "metadata": {
    "ExecuteTime": {
     "end_time": "2020-12-05T09:36:15.303017Z",
     "start_time": "2020-12-05T09:36:15.220158Z"
    }
   },
   "outputs": [
    {
     "data": {
      "text/plain": [
       "Index(['Holliday_Package', 'Salary', 'age', 'educ', 'no_young_children',\n",
       "       'no_older_children', 'foreign_yes'],\n",
       "      dtype='object')"
      ]
     },
     "execution_count": 17,
     "metadata": {},
     "output_type": "execute_result"
    }
   ],
   "source": [
    "df_HPkg.columns"
   ]
  },
  {
   "cell_type": "code",
   "execution_count": 18,
   "metadata": {
    "ExecuteTime": {
     "end_time": "2020-12-05T09:36:19.032089Z",
     "start_time": "2020-12-05T09:36:15.303837Z"
    }
   },
   "outputs": [
    {
     "data": {
      "image/png": "[encoded data removed]",
      "text/plain": [
       "<Figure size 864x1008 with 10 Axes>"
      ]
     },
     "metadata": {
      "needs_background": "light"
     },
     "output_type": "display_data"
    }
   ],
   "source": [
    "fig, axes = plt.subplots(nrows=5,ncols=2)\n",
    "fig.set_size_inches(12, 14)\n",
    "\n",
    "a = sns.distplot(df_HPkg['Salary'] , ax=axes[0][0])\n",
    "a.set_title(\"Salary Distribution\",fontsize=15)\n",
    "\n",
    "a = sns.boxplot(df_HPkg['Salary'] , orient = \"v\" , ax=axes[0][1])\n",
    "a.set_title(\"Salary Distribution\",fontsize=15)\n",
    "\n",
    "a = sns.distplot(df_HPkg['age'] , ax=axes[1][0])\n",
    "a.set_title(\"age Distribution\",fontsize=15)\n",
    "\n",
    "a = sns.boxplot(df_HPkg['age'] , orient = \"v\" , ax=axes[1][1])\n",
    "a.set_title(\"age Distribution\",fontsize=15)\n",
    "\n",
    "a = sns.distplot(df_HPkg['educ'] , ax=axes[2][0])\n",
    "a.set_title(\"educ  Distribution\",fontsize=15)\n",
    "\n",
    "a = sns.boxplot(df_HPkg['educ'] , orient = \"v\" , ax=axes[2][1])\n",
    "a.set_title(\"educ  Distribution\",fontsize=15)\n",
    "\n",
    "a = sns.distplot(df_HPkg['no_young_children'] , kde_kws={'bw': 0.1}, ax=axes[3][0])\n",
    "a.set_title(\"no_young_children  Distribution\",fontsize=15)\n",
    "\n",
    "a = sns.boxplot(df_HPkg['no_young_children'] , orient = \"v\" , ax=axes[3][1])\n",
    "a.set_title(\"no_young_children  Distribution\",fontsize=15)\n",
    "\n",
    "a = sns.distplot(df_HPkg['no_older_children'] , ax=axes[4][0])\n",
    "a.set_title(\"no_older_children  Distribution\",fontsize=15)\n",
    "\n",
    "a = sns.boxplot(df_HPkg['no_older_children'] , orient = \"v\" , ax=axes[4][1])\n",
    "a.set_title(\"no_older_children  Distribution\",fontsize=15)\n",
    "\n",
    "plt.tight_layout()\n",
    "plt.show()"
   ]
  },
  {
   "cell_type": "markdown",
   "metadata": {},
   "source": [
    "### Bivariate Analysis"
   ]
  },
  {
   "cell_type": "markdown",
   "metadata": {},
   "source": [
    "### Boxplot"
   ]
  },
  {
   "cell_type": "code",
   "execution_count": 19,
   "metadata": {
    "ExecuteTime": {
     "end_time": "2020-12-05T09:36:19.512348Z",
     "start_time": "2020-12-05T09:36:19.035969Z"
    }
   },
   "outputs": [
    {
     "data": {
      "image/png": "[encoded data removed]",
      "text/plain": [
       "<Figure size 720x720 with 1 Axes>"
      ]
     },
     "metadata": {
      "needs_background": "light"
     },
     "output_type": "display_data"
    }
   ],
   "source": [
    "cont=df_HPkg.dtypes[(df_HPkg.dtypes!='uint8') & (df_HPkg.dtypes!='bool')].index\n",
    "plt.figure(figsize=(10,10))\n",
    "df_HPkg[cont].boxplot(vert=0)\n",
    "plt.title('With Outliers',fontsize=16)\n",
    "plt.show()"
   ]
  },
  {
   "cell_type": "code",
   "execution_count": 20,
   "metadata": {
    "ExecuteTime": {
     "end_time": "2020-12-05T09:36:19.528672Z",
     "start_time": "2020-12-05T09:36:19.513386Z"
    }
   },
   "outputs": [],
   "source": [
    "def remove_outlier(col):\n",
    "    sorted(col)\n",
    "    Q1,Q3=np.percentile(col,[25,75])\n",
    "    IQR=Q3-Q1\n",
    "    lower_range= Q1-(1.5 * IQR)\n",
    "    upper_range= Q3+(1.5 * IQR)\n",
    "    return lower_range, upper_range"
   ]
  },
  {
   "cell_type": "code",
   "execution_count": 21,
   "metadata": {
    "ExecuteTime": {
     "end_time": "2020-12-05T09:36:19.678142Z",
     "start_time": "2020-12-05T09:36:19.532439Z"
    }
   },
   "outputs": [],
   "source": [
    "for column in df_HPkg[cont].columns:\n",
    "    lr,ur=remove_outlier(df_HPkg[column])\n",
    "    df_HPkg[column]=np.where(df_HPkg[column]>ur,ur,df_HPkg[column])\n",
    "    df_HPkg[column]=np.where(df_HPkg[column]<lr,lr,df_HPkg[column])"
   ]
  },
  {
   "cell_type": "code",
   "execution_count": 22,
   "metadata": {
    "ExecuteTime": {
     "end_time": "2020-12-05T09:36:20.177252Z",
     "start_time": "2020-12-05T09:36:19.685159Z"
    }
   },
   "outputs": [
    {
     "data": {
      "image/png": "[encoded data removed]",
      "text/plain": [
       "<Figure size 720x720 with 1 Axes>"
      ]
     },
     "metadata": {
      "needs_background": "light"
     },
     "output_type": "display_data"
    }
   ],
   "source": [
    "plt.figure(figsize=(10,10))\n",
    "df_HPkg[cont].boxplot(vert=0)\n",
    "plt.title('After Outlier Removal',fontsize=16)\n",
    "plt.show()"
   ]
  },
  {
   "cell_type": "code",
   "execution_count": 23,
   "metadata": {
    "ExecuteTime": {
     "end_time": "2020-12-05T09:36:33.261792Z",
     "start_time": "2020-12-05T09:36:20.187791Z"
    },
    "scrolled": false
   },
   "outputs": [
    {
     "data": {
      "image/png": "[encoded data removed]",
      "text/plain": [
       "<Figure size 994.875x900 with 30 Axes>"
      ]
     },
     "metadata": {
      "needs_background": "light"
     },
     "output_type": "display_data"
    }
   ],
   "source": [
    "sns.pairplot(df_HPkg.iloc[:,0:6], diag_kind='hist', hue='Holliday_Package')  \n",
    "plt.show()"
   ]
  },
  {
   "cell_type": "markdown",
   "metadata": {},
   "source": [
    "### Correlation"
   ]
  },
  {
   "cell_type": "code",
   "execution_count": 24,
   "metadata": {
    "ExecuteTime": {
     "end_time": "2020-12-05T09:36:33.836317Z",
     "start_time": "2020-12-05T09:36:33.267905Z"
    }
   },
   "outputs": [
    {
     "data": {
      "text/plain": [
       "<AxesSubplot:>"
      ]
     },
     "execution_count": 24,
     "metadata": {},
     "output_type": "execute_result"
    },
    {
     "data": {
      "image/png": "[encoded data removed]",
      "text/plain": [
       "<Figure size 864x576 with 2 Axes>"
      ]
     },
     "metadata": {
      "needs_background": "light"
     },
     "output_type": "display_data"
    }
   ],
   "source": [
    "df_HPkg_attr = (df_HPkg[cont])\n",
    "plt.figure(figsize=(12,8))\n",
    "sns.heatmap(df_HPkg_attr.corr(),annot=True,mask=np.triu(df_HPkg_attr.corr(),+1),cmap='viridis',vmin=-0.2,vmax=1)"
   ]
  },
  {
   "cell_type": "markdown",
   "metadata": {},
   "source": [
    "# 2.2) Data Split: Splitting the data into test and train (70:30)"
   ]
  },
  {
   "cell_type": "code",
   "execution_count": 25,
   "metadata": {
    "ExecuteTime": {
     "end_time": "2020-12-05T09:36:33.845145Z",
     "start_time": "2020-12-05T09:36:33.839379Z"
    }
   },
   "outputs": [],
   "source": [
    "# Copy all the predictor variables into X dataframe\n",
    "X = df_HPkg.drop('Holliday_Package', axis=1)\n",
    "\n",
    "# Copy target into the y dataframe. \n",
    "y = df_HPkg[['Holliday_Package']]"
   ]
  },
  {
   "cell_type": "code",
   "execution_count": 26,
   "metadata": {
    "ExecuteTime": {
     "end_time": "2020-12-05T09:36:33.991298Z",
     "start_time": "2020-12-05T09:36:33.847344Z"
    }
   },
   "outputs": [
    {
     "data": {
      "text/html": [
       "<div>\n",
       "<style scoped>\n",
       "    .dataframe tbody tr th:only-of-type {\n",
       "        vertical-align: middle;\n",
       "    }\n",
       "\n",
       "    .dataframe tbody tr th {\n",
       "        vertical-align: top;\n",
       "    }\n",
       "\n",
       "    .dataframe thead th {\n",
       "        text-align: right;\n",
       "    }\n",
       "</style>\n",
       "<table border=\"1\" class=\"dataframe\">\n",
       "  <thead>\n",
       "    <tr style=\"text-align: right;\">\n",
       "      <th></th>\n",
       "      <th>Salary</th>\n",
       "      <th>age</th>\n",
       "      <th>educ</th>\n",
       "      <th>no_young_children</th>\n",
       "      <th>no_older_children</th>\n",
       "      <th>foreign_yes</th>\n",
       "    </tr>\n",
       "  </thead>\n",
       "  <tbody>\n",
       "    <tr>\n",
       "      <th>0</th>\n",
       "      <td>48412.0</td>\n",
       "      <td>30.0</td>\n",
       "      <td>8.0</td>\n",
       "      <td>0.0</td>\n",
       "      <td>1.0</td>\n",
       "      <td>0</td>\n",
       "    </tr>\n",
       "    <tr>\n",
       "      <th>1</th>\n",
       "      <td>37207.0</td>\n",
       "      <td>45.0</td>\n",
       "      <td>8.0</td>\n",
       "      <td>0.0</td>\n",
       "      <td>1.0</td>\n",
       "      <td>0</td>\n",
       "    </tr>\n",
       "    <tr>\n",
       "      <th>2</th>\n",
       "      <td>58022.0</td>\n",
       "      <td>46.0</td>\n",
       "      <td>9.0</td>\n",
       "      <td>0.0</td>\n",
       "      <td>0.0</td>\n",
       "      <td>0</td>\n",
       "    </tr>\n",
       "    <tr>\n",
       "      <th>3</th>\n",
       "      <td>66503.0</td>\n",
       "      <td>31.0</td>\n",
       "      <td>11.0</td>\n",
       "      <td>0.0</td>\n",
       "      <td>0.0</td>\n",
       "      <td>0</td>\n",
       "    </tr>\n",
       "    <tr>\n",
       "      <th>4</th>\n",
       "      <td>66734.0</td>\n",
       "      <td>44.0</td>\n",
       "      <td>12.0</td>\n",
       "      <td>0.0</td>\n",
       "      <td>2.0</td>\n",
       "      <td>0</td>\n",
       "    </tr>\n",
       "  </tbody>\n",
       "</table>\n",
       "</div>"
      ],
      "text/plain": [
       "    Salary   age  educ  no_young_children  no_older_children  foreign_yes\n",
       "0  48412.0  30.0   8.0                0.0                1.0            0\n",
       "1  37207.0  45.0   8.0                0.0                1.0            0\n",
       "2  58022.0  46.0   9.0                0.0                0.0            0\n",
       "3  66503.0  31.0  11.0                0.0                0.0            0\n",
       "4  66734.0  44.0  12.0                0.0                2.0            0"
      ]
     },
     "execution_count": 26,
     "metadata": {},
     "output_type": "execute_result"
    }
   ],
   "source": [
    "X.head()"
   ]
  },
  {
   "cell_type": "code",
   "execution_count": 27,
   "metadata": {
    "ExecuteTime": {
     "end_time": "2020-12-05T09:36:34.067260Z",
     "start_time": "2020-12-05T09:36:33.993325Z"
    }
   },
   "outputs": [
    {
     "data": {
      "text/html": [
       "<div>\n",
       "<style scoped>\n",
       "    .dataframe tbody tr th:only-of-type {\n",
       "        vertical-align: middle;\n",
       "    }\n",
       "\n",
       "    .dataframe tbody tr th {\n",
       "        vertical-align: top;\n",
       "    }\n",
       "\n",
       "    .dataframe thead th {\n",
       "        text-align: right;\n",
       "    }\n",
       "</style>\n",
       "<table border=\"1\" class=\"dataframe\">\n",
       "  <thead>\n",
       "    <tr style=\"text-align: right;\">\n",
       "      <th></th>\n",
       "      <th>Holliday_Package</th>\n",
       "    </tr>\n",
       "  </thead>\n",
       "  <tbody>\n",
       "    <tr>\n",
       "      <th>0</th>\n",
       "      <td>0.0</td>\n",
       "    </tr>\n",
       "    <tr>\n",
       "      <th>1</th>\n",
       "      <td>1.0</td>\n",
       "    </tr>\n",
       "    <tr>\n",
       "      <th>2</th>\n",
       "      <td>0.0</td>\n",
       "    </tr>\n",
       "    <tr>\n",
       "      <th>3</th>\n",
       "      <td>0.0</td>\n",
       "    </tr>\n",
       "    <tr>\n",
       "      <th>4</th>\n",
       "      <td>0.0</td>\n",
       "    </tr>\n",
       "  </tbody>\n",
       "</table>\n",
       "</div>"
      ],
      "text/plain": [
       "   Holliday_Package\n",
       "0               0.0\n",
       "1               1.0\n",
       "2               0.0\n",
       "3               0.0\n",
       "4               0.0"
      ]
     },
     "execution_count": 27,
     "metadata": {},
     "output_type": "execute_result"
    }
   ],
   "source": [
    "y.head()"
   ]
  },
  {
   "cell_type": "code",
   "execution_count": 28,
   "metadata": {
    "ExecuteTime": {
     "end_time": "2020-12-05T09:36:34.142080Z",
     "start_time": "2020-12-05T09:36:34.068868Z"
    }
   },
   "outputs": [],
   "source": [
    "X_train, X_test, y_train, y_test = train_test_split(X, y, test_size=0.3 , random_state=1)"
   ]
  },
  {
   "cell_type": "code",
   "execution_count": 29,
   "metadata": {
    "ExecuteTime": {
     "end_time": "2020-12-05T09:36:34.241366Z",
     "start_time": "2020-12-05T09:36:34.143078Z"
    }
   },
   "outputs": [
    {
     "data": {
      "text/plain": [
       "Holliday_Package\n",
       "0.0                 0.534426\n",
       "1.0                 0.465574\n",
       "dtype: float64"
      ]
     },
     "execution_count": 29,
     "metadata": {},
     "output_type": "execute_result"
    }
   ],
   "source": [
    "y_train.value_counts(normalize=True)"
   ]
  },
  {
   "cell_type": "code",
   "execution_count": 30,
   "metadata": {
    "ExecuteTime": {
     "end_time": "2020-12-05T09:36:34.329747Z",
     "start_time": "2020-12-05T09:36:34.249090Z"
    }
   },
   "outputs": [
    {
     "data": {
      "text/plain": [
       "Holliday_Package\n",
       "0.0                 0.553435\n",
       "1.0                 0.446565\n",
       "dtype: float64"
      ]
     },
     "execution_count": 30,
     "metadata": {},
     "output_type": "execute_result"
    }
   ],
   "source": [
    "y_test.value_counts(normalize=True)"
   ]
  },
  {
   "cell_type": "markdown",
   "metadata": {},
   "source": [
    "### Logistic Regression Model"
   ]
  },
  {
   "cell_type": "code",
   "execution_count": 31,
   "metadata": {
    "ExecuteTime": {
     "end_time": "2020-12-05T09:36:37.286510Z",
     "start_time": "2020-12-05T09:36:34.336774Z"
    }
   },
   "outputs": [
    {
     "name": "stderr",
     "output_type": "stream",
     "text": [
      "C:\\Users\\Admin\\anaconda3\\lib\\site-packages\\sklearn\\utils\\validation.py:760: DataConversionWarning: A column-vector y was passed when a 1d array was expected. Please change the shape of y to (n_samples, ), for example using ravel().\n",
      "  y = column_or_1d(y, warn=True)\n",
      "[Parallel(n_jobs=2)]: Using backend LokyBackend with 2 concurrent workers.\n",
      "[Parallel(n_jobs=2)]: Done   1 out of   1 | elapsed:    2.8s finished\n"
     ]
    },
    {
     "data": {
      "text/plain": [
       "LogisticRegression(C=1.0, class_weight=None, dual=False, fit_intercept=True,\n",
       "                   intercept_scaling=1, l1_ratio=None, max_iter=10000,\n",
       "                   multi_class='auto', n_jobs=2, penalty='none',\n",
       "                   random_state=None, solver='newton-cg', tol=0.0001,\n",
       "                   verbose=True, warm_start=False)"
      ]
     },
     "execution_count": 31,
     "metadata": {},
     "output_type": "execute_result"
    }
   ],
   "source": [
    "# Fit the Logistic Regression model\n",
    "model = LogisticRegression(solver='newton-cg',max_iter=10000,penalty='none',verbose=True,n_jobs=2)\n",
    "model.fit(X_train, y_train)"
   ]
  },
  {
   "cell_type": "markdown",
   "metadata": {},
   "source": [
    "### Predicting on Training and Test dataset"
   ]
  },
  {
   "cell_type": "code",
   "execution_count": 32,
   "metadata": {
    "ExecuteTime": {
     "end_time": "2020-12-05T09:36:37.305089Z",
     "start_time": "2020-12-05T09:36:37.290529Z"
    }
   },
   "outputs": [],
   "source": [
    "ytrain_predict = model.predict(X_train)\n",
    "ytest_predict = model.predict(X_test)"
   ]
  },
  {
   "cell_type": "markdown",
   "metadata": {},
   "source": [
    "### Getting the Predicted Classes and Probs"
   ]
  },
  {
   "cell_type": "code",
   "execution_count": 33,
   "metadata": {
    "ExecuteTime": {
     "end_time": "2020-12-05T09:36:37.439181Z",
     "start_time": "2020-12-05T09:36:37.308081Z"
    }
   },
   "outputs": [
    {
     "data": {
      "text/html": [
       "<div>\n",
       "<style scoped>\n",
       "    .dataframe tbody tr th:only-of-type {\n",
       "        vertical-align: middle;\n",
       "    }\n",
       "\n",
       "    .dataframe tbody tr th {\n",
       "        vertical-align: top;\n",
       "    }\n",
       "\n",
       "    .dataframe thead th {\n",
       "        text-align: right;\n",
       "    }\n",
       "</style>\n",
       "<table border=\"1\" class=\"dataframe\">\n",
       "  <thead>\n",
       "    <tr style=\"text-align: right;\">\n",
       "      <th></th>\n",
       "      <th>0</th>\n",
       "      <th>1</th>\n",
       "    </tr>\n",
       "  </thead>\n",
       "  <tbody>\n",
       "    <tr>\n",
       "      <th>0</th>\n",
       "      <td>0.696807</td>\n",
       "      <td>0.303193</td>\n",
       "    </tr>\n",
       "    <tr>\n",
       "      <th>1</th>\n",
       "      <td>0.332213</td>\n",
       "      <td>0.667787</td>\n",
       "    </tr>\n",
       "    <tr>\n",
       "      <th>2</th>\n",
       "      <td>0.620128</td>\n",
       "      <td>0.379872</td>\n",
       "    </tr>\n",
       "    <tr>\n",
       "      <th>3</th>\n",
       "      <td>0.686886</td>\n",
       "      <td>0.313114</td>\n",
       "    </tr>\n",
       "    <tr>\n",
       "      <th>4</th>\n",
       "      <td>0.354964</td>\n",
       "      <td>0.645036</td>\n",
       "    </tr>\n",
       "  </tbody>\n",
       "</table>\n",
       "</div>"
      ],
      "text/plain": [
       "          0         1\n",
       "0  0.696807  0.303193\n",
       "1  0.332213  0.667787\n",
       "2  0.620128  0.379872\n",
       "3  0.686886  0.313114\n",
       "4  0.354964  0.645036"
      ]
     },
     "execution_count": 33,
     "metadata": {},
     "output_type": "execute_result"
    }
   ],
   "source": [
    "ytest_predict_prob=model.predict_proba(X_test)\n",
    "pd.DataFrame(ytest_predict_prob).head()"
   ]
  },
  {
   "cell_type": "markdown",
   "metadata": {},
   "source": [
    "### Model Evaluation"
   ]
  },
  {
   "cell_type": "code",
   "execution_count": 34,
   "metadata": {
    "ExecuteTime": {
     "end_time": "2020-12-05T09:36:37.525807Z",
     "start_time": "2020-12-05T09:36:37.443979Z"
    }
   },
   "outputs": [
    {
     "data": {
      "text/plain": [
       "0.6409836065573771"
      ]
     },
     "execution_count": 34,
     "metadata": {},
     "output_type": "execute_result"
    }
   ],
   "source": [
    "# Accuracy - Training Data\n",
    "model.score(X_train, y_train)"
   ]
  },
  {
   "cell_type": "markdown",
   "metadata": {
    "ExecuteTime": {
     "end_time": "2020-12-03T05:55:50.054818Z",
     "start_time": "2020-12-03T05:55:50.049587Z"
    }
   },
   "source": [
    "### AUC and ROC for the training data"
   ]
  },
  {
   "cell_type": "code",
   "execution_count": 35,
   "metadata": {
    "ExecuteTime": {
     "end_time": "2020-12-05T09:36:38.033150Z",
     "start_time": "2020-12-05T09:36:37.530053Z"
    }
   },
   "outputs": [
    {
     "name": "stdout",
     "output_type": "stream",
     "text": [
      "AUC: 0.667\n"
     ]
    },
    {
     "data": {
      "image/png": "[encoded data removed]",
      "text/plain": [
       "<Figure size 432x288 with 1 Axes>"
      ]
     },
     "metadata": {
      "needs_background": "light"
     },
     "output_type": "display_data"
    }
   ],
   "source": [
    "# predict probabilities\n",
    "probs = model.predict_proba(X_train)\n",
    "# keep probabilities for the positive outcome only\n",
    "probs = probs[:, 1]\n",
    "# calculate AUC\n",
    "auc = roc_auc_score(y_train, probs)\n",
    "print('AUC: %.3f' % auc)\n",
    "# calculate roc curve\n",
    "train_fpr, train_tpr, train_thresholds = roc_curve(y_train, probs)\n",
    "plt.plot([0, 1], [0, 1], linestyle='--')\n",
    "# plot the roc curve for the model\n",
    "plt.plot(train_fpr, train_tpr);"
   ]
  },
  {
   "cell_type": "code",
   "execution_count": 36,
   "metadata": {
    "ExecuteTime": {
     "end_time": "2020-12-05T09:36:38.410792Z",
     "start_time": "2020-12-05T09:36:38.036817Z"
    }
   },
   "outputs": [
    {
     "name": "stdout",
     "output_type": "stream",
     "text": [
      "AUC: 0.667\n"
     ]
    },
    {
     "data": {
      "image/png": "[encoded data removed]",
      "text/plain": [
       "<Figure size 432x288 with 1 Axes>"
      ]
     },
     "metadata": {
      "needs_background": "light"
     },
     "output_type": "display_data"
    }
   ],
   "source": [
    "# predict probabilities\n",
    "probs = model.predict_proba(X_test)\n",
    "# keep probabilities for the positive outcome only\n",
    "probs = probs[:, 1]\n",
    "# calculate AUC\n",
    "test_auc = roc_auc_score(y_test, probs)\n",
    "print('AUC: %.3f' % auc)\n",
    "# calculate roc curve\n",
    "test_fpr, test_tpr, test_thresholds = roc_curve(y_test, probs)\n",
    "plt.plot([0, 1], [0, 1], linestyle='--')\n",
    "# plot the roc curve for the model\n",
    "plt.plot(test_fpr, test_tpr);"
   ]
  },
  {
   "cell_type": "code",
   "execution_count": 37,
   "metadata": {
    "ExecuteTime": {
     "end_time": "2020-12-05T09:36:38.434910Z",
     "start_time": "2020-12-05T09:36:38.412788Z"
    }
   },
   "outputs": [
    {
     "data": {
      "text/plain": [
       "0.6297709923664122"
      ]
     },
     "execution_count": 37,
     "metadata": {},
     "output_type": "execute_result"
    }
   ],
   "source": [
    "# Accuracy - Test Data\n",
    "model.score(X_test, y_test)"
   ]
  },
  {
   "cell_type": "markdown",
   "metadata": {},
   "source": [
    "### Confusion Matrix for the training data"
   ]
  },
  {
   "cell_type": "code",
   "execution_count": 38,
   "metadata": {
    "ExecuteTime": {
     "end_time": "2020-12-05T09:36:38.514727Z",
     "start_time": "2020-12-05T09:36:38.436344Z"
    }
   },
   "outputs": [
    {
     "data": {
      "text/plain": [
       "array([[265,  61],\n",
       "       [158, 126]], dtype=int64)"
      ]
     },
     "execution_count": 38,
     "metadata": {},
     "output_type": "execute_result"
    }
   ],
   "source": [
    "confusion_matrix(y_train, ytrain_predict)"
   ]
  },
  {
   "cell_type": "code",
   "execution_count": 39,
   "metadata": {
    "ExecuteTime": {
     "end_time": "2020-12-05T09:36:39.089252Z",
     "start_time": "2020-12-05T09:36:38.519790Z"
    }
   },
   "outputs": [
    {
     "data": {
      "image/png": "[encoded data removed]",
      "text/plain": [
       "<Figure size 432x288 with 2 Axes>"
      ]
     },
     "metadata": {
      "needs_background": "light"
     },
     "output_type": "display_data"
    }
   ],
   "source": [
    "plot_confusion_matrix(model,X_train,y_train,values_format='0.2f');"
   ]
  },
  {
   "cell_type": "code",
   "execution_count": 40,
   "metadata": {
    "ExecuteTime": {
     "end_time": "2020-12-05T09:36:39.123979Z",
     "start_time": "2020-12-05T09:36:39.093697Z"
    }
   },
   "outputs": [
    {
     "name": "stdout",
     "output_type": "stream",
     "text": [
      "              precision    recall  f1-score   support\n",
      "\n",
      "         0.0       0.63      0.81      0.71       326\n",
      "         1.0       0.67      0.44      0.54       284\n",
      "\n",
      "    accuracy                           0.64       610\n",
      "   macro avg       0.65      0.63      0.62       610\n",
      "weighted avg       0.65      0.64      0.63       610\n",
      "\n"
     ]
    }
   ],
   "source": [
    "print(classification_report(y_train, ytrain_predict))"
   ]
  },
  {
   "cell_type": "markdown",
   "metadata": {},
   "source": [
    "### Confusion Matrix for test data"
   ]
  },
  {
   "cell_type": "code",
   "execution_count": 41,
   "metadata": {
    "ExecuteTime": {
     "end_time": "2020-12-05T09:36:39.228110Z",
     "start_time": "2020-12-05T09:36:39.128738Z"
    }
   },
   "outputs": [
    {
     "data": {
      "text/plain": [
       "array([[113,  32],\n",
       "       [ 65,  52]], dtype=int64)"
      ]
     },
     "execution_count": 41,
     "metadata": {},
     "output_type": "execute_result"
    }
   ],
   "source": [
    "confusion_matrix(y_test, ytest_predict)"
   ]
  },
  {
   "cell_type": "code",
   "execution_count": 56,
   "metadata": {
    "ExecuteTime": {
     "end_time": "2020-12-05T11:14:39.526988Z",
     "start_time": "2020-12-05T11:14:39.170727Z"
    }
   },
   "outputs": [
    {
     "data": {
      "image/png": "[encoded data removed]",
      "text/plain": [
       "<Figure size 432x288 with 2 Axes>"
      ]
     },
     "metadata": {
      "needs_background": "light"
     },
     "output_type": "display_data"
    }
   ],
   "source": [
    "plot_confusion_matrix(model,X_test,y_test, values_format='.2f');"
   ]
  },
  {
   "cell_type": "code",
   "execution_count": 43,
   "metadata": {
    "ExecuteTime": {
     "end_time": "2020-12-05T09:36:39.771604Z",
     "start_time": "2020-12-05T09:36:39.757011Z"
    }
   },
   "outputs": [
    {
     "name": "stdout",
     "output_type": "stream",
     "text": [
      "              precision    recall  f1-score   support\n",
      "\n",
      "         0.0       0.63      0.78      0.70       145\n",
      "         1.0       0.62      0.44      0.52       117\n",
      "\n",
      "    accuracy                           0.63       262\n",
      "   macro avg       0.63      0.61      0.61       262\n",
      "weighted avg       0.63      0.63      0.62       262\n",
      "\n"
     ]
    }
   ],
   "source": [
    "print(classification_report(y_test, ytest_predict))"
   ]
  },
  {
   "cell_type": "markdown",
   "metadata": {
    "ExecuteTime": {
     "end_time": "2020-12-02T09:45:48.126239Z",
     "start_time": "2020-12-02T09:45:48.024970Z"
    }
   },
   "source": [
    "### LDA Model"
   ]
  },
  {
   "cell_type": "code",
   "execution_count": 44,
   "metadata": {
    "ExecuteTime": {
     "end_time": "2020-12-05T09:36:40.223137Z",
     "start_time": "2020-12-05T09:36:39.774724Z"
    }
   },
   "outputs": [
    {
     "name": "stderr",
     "output_type": "stream",
     "text": [
      "C:\\Users\\Admin\\anaconda3\\lib\\site-packages\\sklearn\\utils\\validation.py:760: DataConversionWarning: A column-vector y was passed when a 1d array was expected. Please change the shape of y to (n_samples, ), for example using ravel().\n",
      "  y = column_or_1d(y, warn=True)\n"
     ]
    }
   ],
   "source": [
    "clf = LinearDiscriminantAnalysis()\n",
    "model=clf.fit(X_train,y_train)"
   ]
  },
  {
   "cell_type": "markdown",
   "metadata": {},
   "source": [
    "### Prediction"
   ]
  },
  {
   "cell_type": "code",
   "execution_count": 45,
   "metadata": {
    "ExecuteTime": {
     "end_time": "2020-12-05T09:36:40.340524Z",
     "start_time": "2020-12-05T09:36:40.232606Z"
    }
   },
   "outputs": [],
   "source": [
    "# Training Data Class Prediction with a cut-off value of 0.5\n",
    "pred_class_train = model.predict(X_train)\n",
    "\n",
    "# Test Data Class Prediction with a cut-off value of 0.5\n",
    "pred_class_test = model.predict(X_test)"
   ]
  },
  {
   "cell_type": "markdown",
   "metadata": {},
   "source": [
    "### Probability prediction for the training and test data"
   ]
  },
  {
   "cell_type": "code",
   "execution_count": 46,
   "metadata": {
    "ExecuteTime": {
     "end_time": "2020-12-05T09:36:40.423951Z",
     "start_time": "2020-12-05T09:36:40.341522Z"
    }
   },
   "outputs": [],
   "source": [
    "# Training Data Probability Prediction\n",
    "pred_prob_train = model.predict_proba(X_train)\n",
    "\n",
    "# Test Data Probability Prediction\n",
    "pred_prob_test = model.predict_proba(X_test)"
   ]
  },
  {
   "cell_type": "code",
   "execution_count": 47,
   "metadata": {
    "ExecuteTime": {
     "end_time": "2020-12-05T09:36:40.752048Z",
     "start_time": "2020-12-05T09:36:40.428241Z"
    },
    "scrolled": true
   },
   "outputs": [
    {
     "data": {
      "text/plain": [
       "array([0.29232736, 0.71218516, 0.25941094, 0.32072989, 0.48465835,\n",
       "       0.6589039 , 0.37617241, 0.3215668 , 0.21855144, 0.44852479,\n",
       "       0.34499238, 0.24274809, 0.3626753 , 0.38323241, 0.46971577,\n",
       "       0.70744216, 0.82618411, 0.41298232, 0.42611419, 0.74640861,\n",
       "       0.53722701, 0.2076308 , 0.49742148, 0.41181601, 0.33751753,\n",
       "       0.41312542, 0.44985376, 0.34497108, 0.75805699, 0.32832053,\n",
       "       0.68478009, 0.70307903, 0.43421205, 0.31621611, 0.42003704,\n",
       "       0.37019078, 0.41712146, 0.38318837, 0.34120849, 0.35763096,\n",
       "       0.38256474, 0.48738393, 0.37220926, 0.67726743, 0.32788312,\n",
       "       0.73236176, 0.56328541, 0.39077477, 0.38782118, 0.46711305,\n",
       "       0.41904625, 0.38570596, 0.49491867, 0.36655139, 0.80610163,\n",
       "       0.40853665, 0.48606621, 0.22836863, 0.73551411, 0.45068862,\n",
       "       0.26261954, 0.44939141, 0.49185238, 0.71908308, 0.35292084,\n",
       "       0.32707741, 0.48779143, 0.74857005, 0.22200694, 0.46730359,\n",
       "       0.3384402 , 0.30639497, 0.46221896, 0.70205593, 0.39421643,\n",
       "       0.64775543, 0.46247044, 0.39350961, 0.33724217, 0.73346243,\n",
       "       0.71019899, 0.38005706, 0.46873071, 0.34403663, 0.72975919,\n",
       "       0.35942894, 0.74399614, 0.45530593, 0.53144336, 0.6582873 ,\n",
       "       0.60331709, 0.45849348, 0.32619363, 0.5116337 , 0.32493598,\n",
       "       0.17651027, 0.49364438, 0.7055594 , 0.73302397, 0.7236886 ,\n",
       "       0.41043989, 0.23855104, 0.41563745, 0.7540544 , 0.45668611,\n",
       "       0.42479285, 0.3863233 , 0.35189045, 0.33880789, 0.7009648 ,\n",
       "       0.68443674, 0.35477597, 0.37511709, 0.42834036, 0.40933253,\n",
       "       0.44296018, 0.387323  , 0.4483461 , 0.75529809, 0.4688514 ,\n",
       "       0.27365169, 0.73351396, 0.21855144, 0.21096025, 0.34419004,\n",
       "       0.41849649, 0.36923209, 0.33538012, 0.43437669, 0.6915271 ,\n",
       "       0.20894232, 0.2331098 , 0.41894562, 0.36445708, 0.534686  ,\n",
       "       0.68007811, 0.39964227, 0.51963062, 0.45657165, 0.7967413 ,\n",
       "       0.58262067, 0.3224668 , 0.4050922 , 0.70841004, 0.71670628,\n",
       "       0.74842161, 0.26090439, 0.40554662, 0.4145131 , 0.3184848 ,\n",
       "       0.40949713, 0.67871777, 0.26231493, 0.5053503 , 0.39775718,\n",
       "       0.41606857, 0.7561956 , 0.44024229, 0.26986737, 0.36211205,\n",
       "       0.46635563, 0.37940567, 0.41164089, 0.42464351, 0.36072409,\n",
       "       0.37985374, 0.51103525, 0.6388106 , 0.23308331, 0.4424314 ,\n",
       "       0.47794544, 0.30506425, 0.74542731, 0.42203994, 0.48325292,\n",
       "       0.41538225, 0.37476565, 0.44836395, 0.4533707 , 0.63207578,\n",
       "       0.56593301, 0.34692442, 0.24628955, 0.24142141, 0.62469484,\n",
       "       0.67335541, 0.41763917, 0.36394445, 0.76198389, 0.27554514,\n",
       "       0.38133933, 0.47316364, 0.30583599, 0.68867684, 0.21513486,\n",
       "       0.24748719, 0.44283403, 0.49652649, 0.33844607, 0.41925526,\n",
       "       0.77463749, 0.27430994, 0.6834969 , 0.3683352 , 0.38815846,\n",
       "       0.29520063, 0.64547096, 0.41355941, 0.48268245, 0.32841099,\n",
       "       0.29301121, 0.51375124, 0.43320167, 0.47563124, 0.322626  ,\n",
       "       0.37742333, 0.24630491, 0.44129533, 0.46422735, 0.37858336,\n",
       "       0.3365892 , 0.68971006, 0.41903549, 0.41935517, 0.45593369,\n",
       "       0.50955208, 0.32232316, 0.32186621, 0.35463242, 0.71019805,\n",
       "       0.18397263, 0.77776137, 0.29502194, 0.74158204, 0.4722314 ,\n",
       "       0.4748286 , 0.5761051 , 0.46817137, 0.40196826, 0.38635973,\n",
       "       0.43415613, 0.45404631, 0.63789273, 0.23927961, 0.71452211,\n",
       "       0.67729022, 0.49291131, 0.409468  , 0.41484249, 0.48295323,\n",
       "       0.39935753, 0.78479377, 0.46440931, 0.26398479, 0.43983503,\n",
       "       0.39421259, 0.375187  , 0.74934813, 0.37485033, 0.28099321,\n",
       "       0.45486287, 0.46942342, 0.63533617, 0.35015683, 0.33147841,\n",
       "       0.76847402, 0.4218832 , 0.53784461, 0.22760556, 0.41042684,\n",
       "       0.46585181, 0.74919902, 0.36459251, 0.38593359, 0.68826101,\n",
       "       0.32439148, 0.4604061 , 0.4091922 , 0.33329626, 0.57318071,\n",
       "       0.45027228, 0.37280912, 0.73964348, 0.40314837, 0.73202158,\n",
       "       0.6589542 , 0.3594339 , 0.71777778, 0.43099325, 0.74903825,\n",
       "       0.78629544, 0.7417779 , 0.36769544, 0.56526674, 0.37272987,\n",
       "       0.35809814, 0.35488735, 0.78120196, 0.67023778, 0.7028305 ,\n",
       "       0.40752848, 0.76927292, 0.38897661, 0.47036691, 0.49235981,\n",
       "       0.44930709, 0.4997649 , 0.44868384, 0.42732809, 0.61155882,\n",
       "       0.29423624, 0.68541029, 0.36168777, 0.26917751, 0.23984536,\n",
       "       0.41699092, 0.77266002, 0.42361054, 0.21397505, 0.41449931,\n",
       "       0.53185034, 0.32046272, 0.70803217, 0.24369227, 0.32354121,\n",
       "       0.40750993, 0.67982299, 0.64594182, 0.66357417, 0.27649496,\n",
       "       0.50876749, 0.2470942 , 0.29839097, 0.34142792, 0.39521398,\n",
       "       0.40035733, 0.39226422, 0.79174864, 0.43196507, 0.33256091,\n",
       "       0.42638238, 0.39051735, 0.77163979, 0.31311869, 0.46051359,\n",
       "       0.35146596, 0.38312012, 0.72318659, 0.4169446 , 0.52030687,\n",
       "       0.35336415, 0.44034016, 0.26960675, 0.45053283, 0.40491321,\n",
       "       0.33300492, 0.24176488, 0.5474256 , 0.38557439, 0.50143486,\n",
       "       0.62648066, 0.56413245, 0.36209046, 0.42024659, 0.68807689,\n",
       "       0.74992172, 0.62405203, 0.46119789, 0.73480661, 0.42014875,\n",
       "       0.35841469, 0.4073321 , 0.6750463 , 0.42078602, 0.37408824,\n",
       "       0.78082493, 0.67867267, 0.2492788 , 0.29767817, 0.43522933,\n",
       "       0.40498344, 0.5500257 , 0.29140442, 0.33330719, 0.41289904,\n",
       "       0.3682902 , 0.39218479, 0.48999543, 0.7232129 , 0.20821697,\n",
       "       0.46358216, 0.35510245, 0.41532968, 0.39803078, 0.26742358,\n",
       "       0.37766111, 0.52230795, 0.33880067, 0.48607264, 0.46128783,\n",
       "       0.73340226, 0.73008823, 0.43423131, 0.66198998, 0.74851021,\n",
       "       0.37667412, 0.25728125, 0.29840066, 0.46143527, 0.33403603,\n",
       "       0.44459978, 0.28400564, 0.71480054, 0.44430148, 0.29271919,\n",
       "       0.58304439, 0.46320672, 0.71412502, 0.30312967, 0.23173648,\n",
       "       0.31839579, 0.64415426, 0.30097265, 0.76197247, 0.37343881,\n",
       "       0.66203033, 0.31924665, 0.30880586, 0.27398823, 0.25607487,\n",
       "       0.45342152, 0.40239156, 0.32410936, 0.29473877, 0.33569464,\n",
       "       0.36568621, 0.27495879, 0.78223818, 0.7177581 , 0.68769396,\n",
       "       0.51848021, 0.768749  , 0.45014061, 0.38117128, 0.36008966,\n",
       "       0.17196765, 0.53305141, 0.78692597, 0.69145943, 0.61409881,\n",
       "       0.205333  , 0.42583554, 0.46669079, 0.22338367, 0.35021573,\n",
       "       0.47110006, 0.35547093, 0.31006804, 0.69659126, 0.31995512,\n",
       "       0.35039642, 0.43953809, 0.67738345, 0.14353577, 0.30448863,\n",
       "       0.79008296, 0.76384466, 0.47003518, 0.37255297, 0.43967956,\n",
       "       0.38478856, 0.49733755, 0.6903686 , 0.40082547, 0.49837717,\n",
       "       0.46884542, 0.43514421, 0.25237296, 0.3612595 , 0.75217165,\n",
       "       0.38946692, 0.67307458, 0.36519872, 0.75324645, 0.45801997,\n",
       "       0.3527507 , 0.39574943, 0.37970164, 0.74761063, 0.46499236,\n",
       "       0.46142179, 0.64115104, 0.4302771 , 0.6552424 , 0.40612793,\n",
       "       0.3388445 , 0.67990696, 0.28052189, 0.45357525, 0.69034021,\n",
       "       0.53061723, 0.74608109, 0.34256527, 0.78960453, 0.51870889,\n",
       "       0.42813294, 0.38841052, 0.34280712, 0.42303084, 0.5097799 ,\n",
       "       0.75115179, 0.22393157, 0.68643996, 0.42330687, 0.4807611 ,\n",
       "       0.30491897, 0.42324233, 0.28527935, 0.57819266, 0.46952937,\n",
       "       0.39834135, 0.59654133, 0.72149398, 0.45814521, 0.3455619 ,\n",
       "       0.54932035, 0.48723583, 0.44253016, 0.75638455, 0.36620933,\n",
       "       0.34488122, 0.3348976 , 0.45926233, 0.3706803 , 0.74951478,\n",
       "       0.74265409, 0.37371649, 0.49137076, 0.74423146, 0.34737582,\n",
       "       0.33406428, 0.6582321 , 0.28549004, 0.32924233, 0.34245701,\n",
       "       0.4382803 , 0.25662168, 0.43758903, 0.46709009, 0.21156772,\n",
       "       0.3305088 , 0.39361725, 0.33572921, 0.35868539, 0.50225521,\n",
       "       0.72179836, 0.29548665, 0.72092999, 0.29455643, 0.50493597,\n",
       "       0.48351341, 0.4812989 , 0.31174045, 0.31742203, 0.48024251,\n",
       "       0.34535607, 0.51622848, 0.42898911, 0.71331589, 0.36942817,\n",
       "       0.36413752, 0.363126  , 0.52960791, 0.28914108, 0.30954333,\n",
       "       0.73479456, 0.33754909, 0.46885403, 0.56332184, 0.50645284,\n",
       "       0.43529819, 0.43984669, 0.43473725, 0.64675963, 0.3566267 ,\n",
       "       0.55115439, 0.42264591, 0.42220894, 0.75524526, 0.38709938,\n",
       "       0.36140173, 0.43818841, 0.36240598, 0.39665105, 0.31976534,\n",
       "       0.40797601, 0.35367085, 0.43367372, 0.30848927, 0.75733382,\n",
       "       0.25361431, 0.43931025, 0.40188515, 0.6352619 , 0.34943924,\n",
       "       0.60049804, 0.71193261, 0.31558893, 0.24326752, 0.21531402])"
      ]
     },
     "execution_count": 47,
     "metadata": {},
     "output_type": "execute_result"
    }
   ],
   "source": [
    "pred_prob_train[:,1]"
   ]
  },
  {
   "cell_type": "markdown",
   "metadata": {
    "ExecuteTime": {
     "end_time": "2020-12-03T06:01:21.237016Z",
     "start_time": "2020-12-03T06:01:21.224967Z"
    }
   },
   "source": [
    "### Model Evaluation"
   ]
  },
  {
   "cell_type": "code",
   "execution_count": 48,
   "metadata": {
    "ExecuteTime": {
     "end_time": "2020-12-05T09:36:40.820383Z",
     "start_time": "2020-12-05T09:36:40.755940Z"
    }
   },
   "outputs": [
    {
     "data": {
      "text/plain": [
       "0.6426229508196721"
      ]
     },
     "execution_count": 48,
     "metadata": {},
     "output_type": "execute_result"
    }
   ],
   "source": [
    "# Accuracy - Training Data\n",
    "model.score(X_train, y_train)"
   ]
  },
  {
   "cell_type": "markdown",
   "metadata": {},
   "source": [
    "### AUR ROC score Training data"
   ]
  },
  {
   "cell_type": "code",
   "execution_count": 49,
   "metadata": {
    "ExecuteTime": {
     "end_time": "2020-12-05T09:36:41.290410Z",
     "start_time": "2020-12-05T09:36:40.823599Z"
    }
   },
   "outputs": [
    {
     "name": "stdout",
     "output_type": "stream",
     "text": [
      "AUC: 0.667\n"
     ]
    },
    {
     "data": {
      "image/png": "[encoded data removed]",
      "text/plain": [
       "<Figure size 432x288 with 1 Axes>"
      ]
     },
     "metadata": {
      "needs_background": "light"
     },
     "output_type": "display_data"
    }
   ],
   "source": [
    "# predict probabilities\n",
    "probs = model.predict_proba(X_train)\n",
    "# keep probabilities for the positive outcome only\n",
    "probs = probs[:, 1]\n",
    "# calculate AUC\n",
    "auc = roc_auc_score(y_train, probs)\n",
    "print('AUC: %.3f' % auc)\n",
    "# calculate roc curve\n",
    "train_fpr, train_tpr, train_thresholds = roc_curve(y_train, probs)\n",
    "plt.plot([0, 1], [0, 1], linestyle='--')\n",
    "# plot the roc curve for the model\n",
    "plt.plot(train_fpr, train_tpr);"
   ]
  },
  {
   "cell_type": "code",
   "execution_count": 50,
   "metadata": {
    "ExecuteTime": {
     "end_time": "2020-12-05T09:36:41.307120Z",
     "start_time": "2020-12-05T09:36:41.291408Z"
    }
   },
   "outputs": [
    {
     "data": {
      "text/plain": [
       "0.6297709923664122"
      ]
     },
     "execution_count": 50,
     "metadata": {},
     "output_type": "execute_result"
    }
   ],
   "source": [
    "# Accuracy - Test Data\n",
    "model.score(X_test, y_test)"
   ]
  },
  {
   "cell_type": "markdown",
   "metadata": {},
   "source": [
    "### AUR ROC score Test data"
   ]
  },
  {
   "cell_type": "code",
   "execution_count": 51,
   "metadata": {
    "ExecuteTime": {
     "end_time": "2020-12-05T09:36:41.752401Z",
     "start_time": "2020-12-05T09:36:41.311265Z"
    }
   },
   "outputs": [
    {
     "name": "stdout",
     "output_type": "stream",
     "text": [
      "AUC: 0.667\n"
     ]
    },
    {
     "data": {
      "image/png": "[encoded data removed]",
      "text/plain": [
       "<Figure size 432x288 with 1 Axes>"
      ]
     },
     "metadata": {
      "needs_background": "light"
     },
     "output_type": "display_data"
    }
   ],
   "source": [
    "# predict probabilities\n",
    "probs = model.predict_proba(X_test)\n",
    "# keep probabilities for the positive outcome only\n",
    "probs = probs[:, 1]\n",
    "# calculate AUC\n",
    "test_auc = roc_auc_score(y_test, probs)\n",
    "print('AUC: %.3f' % auc)\n",
    "# calculate roc curve\n",
    "test_fpr, test_tpr, test_thresholds = roc_curve(y_test, probs)\n",
    "plt.plot([0, 1], [0, 1], linestyle='--')\n",
    "# plot the roc curve for the model\n",
    "plt.plot(test_fpr, test_tpr);"
   ]
  },
  {
   "cell_type": "markdown",
   "metadata": {},
   "source": [
    "### Confusion Matrix for the training data"
   ]
  },
  {
   "cell_type": "code",
   "execution_count": 52,
   "metadata": {
    "ExecuteTime": {
     "end_time": "2020-12-05T09:36:41.776565Z",
     "start_time": "2020-12-05T09:36:41.756539Z"
    }
   },
   "outputs": [
    {
     "data": {
      "text/plain": [
       "array([[265,  61],\n",
       "       [158, 126]], dtype=int64)"
      ]
     },
     "execution_count": 52,
     "metadata": {},
     "output_type": "execute_result"
    }
   ],
   "source": [
    "confusion_matrix(y_train, ytrain_predict)"
   ]
  },
  {
   "cell_type": "code",
   "execution_count": 53,
   "metadata": {
    "ExecuteTime": {
     "end_time": "2020-12-05T09:36:41.853943Z",
     "start_time": "2020-12-05T09:36:41.780003Z"
    }
   },
   "outputs": [
    {
     "data": {
      "text/plain": [
       "array([[113,  32],\n",
       "       [ 65,  52]], dtype=int64)"
      ]
     },
     "execution_count": 53,
     "metadata": {},
     "output_type": "execute_result"
    }
   ],
   "source": [
    "confusion_matrix(y_test, ytest_predict)"
   ]
  },
  {
   "cell_type": "code",
   "execution_count": 58,
   "metadata": {
    "ExecuteTime": {
     "end_time": "2020-12-05T12:01:06.576585Z",
     "start_time": "2020-12-05T12:01:05.900556Z"
    }
   },
   "outputs": [
    {
     "data": {
      "image/png": "[encoded data removed]",
      "text/plain": [
       "<Figure size 432x288 with 4 Axes>"
      ]
     },
     "metadata": {
      "needs_background": "light"
     },
     "output_type": "display_data"
    }
   ],
   "source": [
    "f,a =  plt.subplots(1,2,sharex=True,sharey=True,squeeze=False)\n",
    "\n",
    "#Plotting confusion matrix for the different models for the Training Data\n",
    "\n",
    "plot_0 = sns.heatmap((metrics.confusion_matrix(y_train,pred_class_train)),annot=True,fmt='.5g',cmap='plasma',ax=a[0][0]);\n",
    "a[0][0].set_title('Training Data')\n",
    "\n",
    "plot_1 = sns.heatmap((metrics.confusion_matrix(y_test,pred_class_test)),annot=True,fmt='.5g',cmap='plasma',ax=a[0][1]);\n",
    "a[0][1].set_title('Test Data');\n"
   ]
  },
  {
   "cell_type": "code",
   "execution_count": 55,
   "metadata": {
    "ExecuteTime": {
     "end_time": "2020-12-05T09:36:43.037792Z",
     "start_time": "2020-12-05T09:36:43.012200Z"
    }
   },
   "outputs": [
    {
     "name": "stdout",
     "output_type": "stream",
     "text": [
      "Classification Report of the training data:\n",
      "\n",
      "               precision    recall  f1-score   support\n",
      "\n",
      "         0.0       0.63      0.83      0.71       326\n",
      "         1.0       0.68      0.43      0.53       284\n",
      "\n",
      "    accuracy                           0.64       610\n",
      "   macro avg       0.65      0.63      0.62       610\n",
      "weighted avg       0.65      0.64      0.63       610\n",
      " \n",
      "\n",
      "Classification Report of the test data:\n",
      "\n",
      "               precision    recall  f1-score   support\n",
      "\n",
      "         0.0       0.63      0.78      0.70       145\n",
      "         1.0       0.62      0.44      0.52       117\n",
      "\n",
      "    accuracy                           0.63       262\n",
      "   macro avg       0.63      0.61      0.61       262\n",
      "weighted avg       0.63      0.63      0.62       262\n",
      " \n",
      "\n"
     ]
    }
   ],
   "source": [
    "print('Classification Report of the training data:\\n\\n',metrics.classification_report(y_train,pred_class_train),'\\n')\n",
    "print('Classification Report of the test data:\\n\\n',metrics.classification_report(y_test,pred_class_test),'\\n')"
   ]
  },
  {
   "cell_type": "code",
   "execution_count": null,
   "metadata": {},
   "outputs": [],
   "source": [
    "index=['Accuracy', 'AUC', 'Recall','Precision','F1 Score']\n",
    "data = pd.DataFrame({'Linear Regression Train':[cart_train_acc,cart_train_auc,cart_train_recall,cart_train_precision,cart_train_f1],\n",
    "        'CART Test':[cart_test_acc,cart_test_auc,cart_test_recall,cart_test_precision,cart_test_f1],\n",
    "round(data,2)"
   ]
  },
  {
   "cell_type": "code",
   "execution_count": null,
   "metadata": {},
   "outputs": [],
   "source": []
  }
 ],
 "metadata": {
  "kernelspec": {
   "display_name": "Python 3",
   "language": "python",
   "name": "python3"
  },
  "language_info": {
   "codemirror_mode": {
    "name": "ipython",
    "version": 3
   },
   "file_extension": ".py",
   "mimetype": "text/x-python",
   "name": "python",
   "nbconvert_exporter": "python",
   "pygments_lexer": "ipython3",
   "version": "3.7.6"
  },
  "latex_envs": {
   "LaTeX_envs_menu_present": true,
   "autoclose": false,
   "autocomplete": true,
   "bibliofile": "biblio.bib",
   "cite_by": "apalike",
   "current_citInitial": 1,
   "eqLabelWithNumbers": true,
   "eqNumInitial": 1,
   "hotkeys": {
    "equation": "Ctrl-E",
    "itemize": "Ctrl-I"
   },
   "labels_anchors": false,
   "latex_user_defs": false,
   "report_style_numbering": false,
   "user_envs_cfg": false
  },
  "varInspector": {
   "cols": {
    "lenName": 16,
    "lenType": 16,
    "lenVar": 40
   },
   "kernels_config": {
    "python": {
     "delete_cmd_postfix": "",
     "delete_cmd_prefix": "del ",
     "library": "var_list.py",
     "varRefreshCmd": "print(var_dic_list())"
    },
    "r": {
     "delete_cmd_postfix": ") ",
     "delete_cmd_prefix": "rm(",
     "library": "var_list.r",
     "varRefreshCmd": "cat(var_dic_list()) "
    }
   },
   "types_to_exclude": [
    "module",
    "function",
    "builtin_function_or_method",
    "instance",
    "_Feature"
   ],
   "window_display": false
  }
 },
 "nbformat": 4,
 "nbformat_minor": 4
}
